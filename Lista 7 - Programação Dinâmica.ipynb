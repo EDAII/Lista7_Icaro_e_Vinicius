{
 "cells": [
  {
   "cell_type": "markdown",
   "metadata": {},
   "source": [
    "# Lista 7 - Knapsack - Programação Dinâmica"
   ]
  },
  {
   "cell_type": "markdown",
   "metadata": {},
   "source": [
    "## Solução do problema"
   ]
  },
  {
   "cell_type": "markdown",
   "metadata": {},
   "source": [
    "### Funções"
   ]
  },
  {
   "cell_type": "code",
   "execution_count": 1,
   "metadata": {},
   "outputs": [],
   "source": [
    "def knapSack(W, n, val, wt):\n",
    "    v = [[0] * (W+1) for _ in range(n+1)]\n",
    "    taken_matrix = [[False] * (W+1) for _ in range(n+1)]\n",
    "\n",
    "    for i in range(1, n+1):\n",
    "        for w in range(1, W+1):\n",
    "            not_taking = v[i-1][w]\n",
    "            v[i][w] = not_taking\n",
    "\n",
    "            if wt[i] <= w:\n",
    "                taking = val[i] + v[i-1][w - wt[i]]\n",
    "                \n",
    "                if taking >= not_taking:\n",
    "                    taken_matrix[i][w] = True\n",
    "                    v[i][w] = taking    \n",
    "\n",
    "    return taken_matrix\n",
    "            \n",
    "def reconstruct(taken_matrix, W, n, val, wt):\n",
    "    itens = []\n",
    "    for i in range(n, -1, -1):\n",
    "        if taken_matrix[i][W]:\n",
    "            W -= wt[i]\n",
    "            itens += [i]\n",
    "    return itens"
   ]
  },
  {
   "cell_type": "markdown",
   "metadata": {},
   "source": [
    "### Execução e relatório"
   ]
  },
  {
   "cell_type": "code",
   "execution_count": 2,
   "metadata": {},
   "outputs": [
    {
     "name": "stdout",
     "output_type": "stream",
     "text": [
      "O máximo de peso que se pode carregar é '14'.\n",
      "\n",
      "Os itens disponíveis são:\n",
      "\t\tItem:  1, Valor: 98, Peso: 33\n",
      "\t\tItem:  2, Valor: 17, Peso: 83\n",
      "\t\tItem:  3, Valor: 28, Peso: 56\n",
      "\t\tItem:  4, Valor: 84, Peso: 03\n",
      "\t\tItem:  5, Valor: 58, Peso: 68\n",
      "\t\tItem:  6, Valor: 94, Peso: 38\n",
      "\t\tItem:  7, Valor: 32, Peso: 20\n",
      "\n",
      "O máximo que se pode carregar em valor é '84' com um peso de '3Kg', com os itens: '4'.\n"
     ]
    }
   ],
   "source": [
    "import random\n",
    "\n",
    "n, W = int(random.random()*100)%20, int(random.random()*100)%50\n",
    "val = [int(random.random()*100) for _ in range(n+1)]\n",
    "wt = [int(random.random()*100) for _ in range(n+1)]\n",
    "\n",
    "print(\"O máximo de peso que se pode carregar é '{}'.\".format(W), end='\\n\\n')\n",
    "print('Os itens disponíveis são:')\n",
    "for item in range(1, len(val)):\n",
    "    print('\\t\\tItem: {:2d}, Valor: {:02d}, Peso: {:02d}'.format(item, val[item], wt[item]))\n",
    "\n",
    "taken_matrix = knapSack(W, n, val, wt)\n",
    "taken_idxs = reconstruct(taken_matrix, W, n, val, wt)\n",
    "\n",
    "taken_vals = [val[i] for i in taken_idxs]\n",
    "taken_weigths = [wt[i] for i in taken_idxs]\n",
    "\n",
    "print(\"\\nO máximo que se pode carregar em valor é '{}' com um peso de '{}Kg', com os itens: '{}'.\".format(sum(taken_vals), sum(taken_weigths), ', '.join(map(str, taken_idxs))))"
   ]
  },
  {
   "cell_type": "markdown",
   "metadata": {},
   "source": [
    "### Ilustração da solução"
   ]
  },
  {
   "cell_type": "code",
   "execution_count": 3,
   "metadata": {},
   "outputs": [],
   "source": [
    "import random\n",
    "\n",
    "knapsack_capacity = W\n",
    "items_picked = taken_idxs\n",
    "wt = wt\n",
    "\n",
    "nrows, ncols = 1, knapsack_capacity\n",
    "random_colors = [random.uniform(0, 10) for x in range(len(wt[1:]))]"
   ]
  },
  {
   "cell_type": "code",
   "execution_count": 4,
   "metadata": {},
   "outputs": [],
   "source": [
    "import matplotlib.pyplot as plt\n",
    "import matplotlib.patches as mpatches\n",
    "\n",
    "def update_image(image):\n",
    "    row_labels = range(nrows, 0, -1)\n",
    "    col_labels = range(1, ncols+1)\n",
    "    im = plt.matshow(image, vmin=0, vmax=10, cmap='jet', aspect='auto')\n",
    "    colors = [ im.cmap(im.norm(i)) for i in random_colors]\n",
    "    plt.xticks(range(ncols), col_labels)\n",
    "    plt.yticks(range(nrows), row_labels)\n",
    "    patches = [ mpatches.Patch(color=colors[i], label=\"Item de peso {}\".format(j) ) for i, j in enumerate(wt[1:]) ]\n",
    "    plt.legend(handles=patches, bbox_to_anchor=(1.05, 1), loc=2, borderaxespad=0. )\n",
    "    plt.show()"
   ]
  },
  {
   "cell_type": "code",
   "execution_count": 5,
   "metadata": {},
   "outputs": [],
   "source": [
    "import numpy as np\n",
    "\n",
    "def build_knapsack(list_height_boards):\n",
    "    image = np.zeros(nrows*ncols)\n",
    "    image = image.reshape((nrows, ncols))\n",
    "    return image"
   ]
  },
  {
   "cell_type": "code",
   "execution_count": 6,
   "metadata": {},
   "outputs": [
    {
     "data": {
      "image/png": "[encoded data removed]",
      "text/plain": [
       "<Figure size 1152x144 with 1 Axes>"
      ]
     },
     "metadata": {
      "needs_background": "light"
     },
     "output_type": "display_data"
    }
   ],
   "source": [
    "import numpy as np\n",
    "\n",
    "image = build_knapsack(knapsack_capacity)\n",
    "update_image(image)"
   ]
  },
  {
   "cell_type": "code",
   "execution_count": 7,
   "metadata": {},
   "outputs": [],
   "source": [
    "used_capacity = 0\n",
    "\n",
    "def execute_commands(item, img_target):\n",
    "    global used_capacity\n",
    "\n",
    "    for i in range(wt[item]):\n",
    "        if used_capacity + wt[item] <= knapsack_capacity and img_target[0, i+used_capacity] < min(random_colors):\n",
    "            img_target[0, i+used_capacity] = random_colors[item-1]\n",
    "    used_capacity += wt[item]\n",
    "    return img_target"
   ]
  },
  {
   "cell_type": "code",
   "execution_count": 8,
   "metadata": {},
   "outputs": [
    {
     "data": {
      "image/png": "[encoded data removed]",
      "text/plain": [
       "<Figure size 1152x144 with 1 Axes>"
      ]
     },
     "metadata": {
      "needs_background": "light"
     },
     "output_type": "display_data"
    }
   ],
   "source": [
    "for i in items_picked:\n",
    "    image = execute_commands(i, image)\n",
    "    update_image(image)"
   ]
  }
 ],
 "metadata": {
  "kernelspec": {
   "display_name": "Python 3",
   "language": "python",
   "name": "python3"
  },
  "language_info": {
   "codemirror_mode": {
    "name": "ipython",
    "version": 3
   },
   "file_extension": ".py",
   "mimetype": "text/x-python",
   "name": "python",
   "nbconvert_exporter": "python",
   "pygments_lexer": "ipython3",
   "version": "3.6.2"
  }
 },
 "nbformat": 4,
 "nbformat_minor": 2
}
