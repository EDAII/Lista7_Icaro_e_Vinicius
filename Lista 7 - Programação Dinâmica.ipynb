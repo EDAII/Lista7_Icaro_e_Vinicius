{
 "cells": [
  {
   "cell_type": "markdown",
   "metadata": {},
   "source": [
    "# Lista 7 - Knapsack - Programação Dinâmica"
   ]
  },
  {
   "cell_type": "markdown",
   "metadata": {},
   "source": [
    "## Solução do problema"
   ]
  },
  {
   "cell_type": "markdown",
   "metadata": {},
   "source": [
    "### Funções"
   ]
  },
  {
   "cell_type": "code",
   "execution_count": 4,
   "metadata": {},
   "outputs": [],
   "source": [
    "def knapSack(W, n, val, wt):\n",
    "    v = [[0] * (W+1) for _ in range(n+1)]\n",
    "    taken_matrix = [[False] * (W+1) for _ in range(n+1)]\n",
    "\n",
    "    for i in range(1, n+1):\n",
    "        for w in range(1, W+1):\n",
    "            not_taking = v[i-1][w]\n",
    "            v[i][w] = not_taking\n",
    "\n",
    "            if wt[i] <= w:\n",
    "                taking = val[i] + v[i-1][w - wt[i]]\n",
    "                \n",
    "                if taking >= not_taking:\n",
    "                    taken_matrix[i][w] = True\n",
    "                    v[i][w] = taking    \n",
    "\n",
    "    return taken_matrix\n",
    "            \n",
    "def reconstruct(taken_matrix, W, n, val, wt):\n",
    "    itens = []\n",
    "    for i in range(n, -1, -1):\n",
    "        if taken_matrix[i][W]:\n",
    "            W -= wt[i]\n",
    "            itens += [i]\n",
    "    return itens"
   ]
  },
  {
   "cell_type": "markdown",
   "metadata": {},
   "source": [
    "### Execução e relatório"
   ]
  },
  {
   "cell_type": "code",
   "execution_count": 2,
   "metadata": {},
   "outputs": [
    {
     "name": "stdout",
     "output_type": "stream",
     "text": [
      "O máximo de peso que se pode carregar é '4'.\n",
      "\n",
      "Os itens disponíveis são:\n",
      "\t\tItem:  0, Valor: 97, Peso: 86\n",
      "\t\tItem:  1, Valor: 66, Peso: 42\n",
      "\t\tItem:  2, Valor: 47, Peso: 44\n",
      "\t\tItem:  3, Valor: 51, Peso: 83\n",
      "\t\tItem:  4, Valor: 06, Peso: 00\n",
      "\t\tItem:  5, Valor: 40, Peso: 87\n",
      "\t\tItem:  6, Valor: 40, Peso: 41\n",
      "\t\tItem:  7, Valor: 37, Peso: 45\n",
      "\t\tItem:  8, Valor: 84, Peso: 35\n",
      "\t\tItem:  9, Valor: 05, Peso: 30\n",
      "\t\tItem: 10, Valor: 95, Peso: 38\n",
      "\t\tItem: 11, Valor: 71, Peso: 99\n",
      "\t\tItem: 12, Valor: 10, Peso: 35\n",
      "\t\tItem: 13, Valor: 93, Peso: 80\n"
     ]
    },
    {
     "ename": "NameError",
     "evalue": "name 'knapSack' is not defined",
     "output_type": "error",
     "traceback": [
      "\u001b[0;31m---------------------------------------------------------------------------\u001b[0m",
      "\u001b[0;31mNameError\u001b[0m                                 Traceback (most recent call last)",
      "\u001b[0;32m<ipython-input-2-b65efef21256>\u001b[0m in \u001b[0;36m<module>\u001b[0;34m()\u001b[0m\n\u001b[1;32m     10\u001b[0m     \u001b[0mprint\u001b[0m\u001b[0;34m(\u001b[0m\u001b[0;34m'\\t\\tItem: {:2d}, Valor: {:02d}, Peso: {:02d}'\u001b[0m\u001b[0;34m.\u001b[0m\u001b[0mformat\u001b[0m\u001b[0;34m(\u001b[0m\u001b[0mitem\u001b[0m\u001b[0;34m,\u001b[0m \u001b[0mval\u001b[0m\u001b[0;34m[\u001b[0m\u001b[0mitem\u001b[0m\u001b[0;34m]\u001b[0m\u001b[0;34m,\u001b[0m \u001b[0mwt\u001b[0m\u001b[0;34m[\u001b[0m\u001b[0mitem\u001b[0m\u001b[0;34m]\u001b[0m\u001b[0;34m)\u001b[0m\u001b[0;34m)\u001b[0m\u001b[0;34m\u001b[0m\u001b[0;34m\u001b[0m\u001b[0m\n\u001b[1;32m     11\u001b[0m \u001b[0;34m\u001b[0m\u001b[0m\n\u001b[0;32m---> 12\u001b[0;31m \u001b[0mtaken_matrix\u001b[0m \u001b[0;34m=\u001b[0m \u001b[0mknapSack\u001b[0m\u001b[0;34m(\u001b[0m\u001b[0mW\u001b[0m\u001b[0;34m,\u001b[0m \u001b[0mn\u001b[0m\u001b[0;34m,\u001b[0m \u001b[0mval\u001b[0m\u001b[0;34m,\u001b[0m \u001b[0mwt\u001b[0m\u001b[0;34m)\u001b[0m\u001b[0;34m\u001b[0m\u001b[0;34m\u001b[0m\u001b[0m\n\u001b[0m\u001b[1;32m     13\u001b[0m \u001b[0mtaken_idxs\u001b[0m \u001b[0;34m=\u001b[0m \u001b[0mreconstruct\u001b[0m\u001b[0;34m(\u001b[0m\u001b[0mtaken_matrix\u001b[0m\u001b[0;34m,\u001b[0m \u001b[0mW\u001b[0m\u001b[0;34m,\u001b[0m \u001b[0mn\u001b[0m\u001b[0;34m,\u001b[0m \u001b[0mval\u001b[0m\u001b[0;34m,\u001b[0m \u001b[0mwt\u001b[0m\u001b[0;34m)\u001b[0m\u001b[0;34m\u001b[0m\u001b[0;34m\u001b[0m\u001b[0m\n\u001b[1;32m     14\u001b[0m \u001b[0;34m\u001b[0m\u001b[0m\n",
      "\u001b[0;31mNameError\u001b[0m: name 'knapSack' is not defined"
     ]
    }
   ],
   "source": [
    "import random\n",
    "\n",
    "n, W = int(random.random()*100)%20, int(random.random()*100)%50\n",
    "val = [int(random.random()*100) for _ in range(n+1)]\n",
    "wt = [int(random.random()*100) for _ in range(n+1)]\n",
    "\n",
    "print(\"O máximo de peso que se pode carregar é '{}'.\".format(W), end='\\n\\n')\n",
    "print('Os itens disponíveis são:')\n",
    "for item in range(len(val)):\n",
    "    print('\\t\\tItem: {:2d}, Valor: {:02d}, Peso: {:02d}'.format(item, val[item], wt[item]))\n",
    "\n",
    "taken_matrix = knapSack(W, n, val, wt)\n",
    "taken_idxs = reconstruct(taken_matrix, W, n, val, wt)\n",
    "\n",
    "taken_vals = [val[i] for i in taken_idxs]\n",
    "taken_weigths = [wt[i] for i in taken_idxs]\n",
    "\n",
    "print(\"\\nO máximo que se pode carregar em valor é '{}' com um peso de '{}Kg', com os itens: '{}'.\".format(sum(taken_vals), sum(taken_weigths), ', '.join(map(str, taken_idxs))))"
   ]
  },
  {
   "cell_type": "markdown",
   "metadata": {},
   "source": [
    "### Ilustração da solução"
   ]
  },
  {
   "cell_type": "code",
   "execution_count": null,
   "metadata": {},
   "outputs": [],
   "source": [
    "import random\n",
    "\n",
    "knapsack_capacity = W\n",
    "items_picked = taken_idxs\n",
    "wt = wt\n",
    "\n",
    "nrows, ncols = 1, knapsack_capacity\n",
    "colors = [random.random() for x in range(len(wt))]"
   ]
  },
  {
   "cell_type": "code",
   "execution_count": null,
   "metadata": {},
   "outputs": [],
   "source": [
    "import matplotlib.pyplot as plt\n",
    "from matplotlib.colors import ListedColormap\n",
    "\n",
    "def update_image(image):\n",
    "    row_labels = range(nrows, 0, -1)\n",
    "    col_labels = range(1, ncols+1)\n",
    "    plt.matshow(image, vmin=0, vmax=1, cmap='jet', aspect='auto')\n",
    "    plt.xticks(range(ncols), col_labels)\n",
    "    plt.yticks(range(nrows), row_labels)\n",
    "    plt.show()"
   ]
  },
  {
   "cell_type": "code",
   "execution_count": null,
   "metadata": {},
   "outputs": [],
   "source": [
    "import numpy as np\n",
    "\n",
    "def build_knapsack(list_height_boards):\n",
    "    image = np.zeros(nrows*ncols)\n",
    "    image = image.reshape((nrows, ncols))\n",
    "    return image"
   ]
  },
  {
   "cell_type": "code",
   "execution_count": null,
   "metadata": {},
   "outputs": [],
   "source": [
    "import numpy as np\n",
    "\n",
    "image = build_knapsack(knapsack_capacity)\n",
    "update_image(image)"
   ]
  },
  {
   "cell_type": "code",
   "execution_count": null,
   "metadata": {},
   "outputs": [],
   "source": [
    "used_capacity = 0\n",
    "\n",
    "def execute_commands(item, img_target):\n",
    "    global used_capacity\n",
    "\n",
    "    for i in range(wt[item]):\n",
    "        if used_capacity + wt[item] <= knapsack_capacity and img_target[0, i+used_capacity] < min(colors):\n",
    "            img_target[0, i+used_capacity] = colors[item]\n",
    "    used_capacity += wt[item]\n",
    "    return img_target"
   ]
  },
  {
   "cell_type": "code",
   "execution_count": null,
   "metadata": {},
   "outputs": [],
   "source": [
    "for i in items_picked:\n",
    "    image = execute_commands(i, image)\n",
    "    update_image(image)"
   ]
  }
 ],
 "metadata": {
  "kernelspec": {
   "display_name": "Python 3",
   "language": "python",
   "name": "python3"
  },
  "language_info": {
   "codemirror_mode": {
    "name": "ipython",
    "version": 3
   },
   "file_extension": ".py",
   "mimetype": "text/x-python",
   "name": "python",
   "nbconvert_exporter": "python",
   "pygments_lexer": "ipython3",
   "version": "3.7.1"
  }
 },
 "nbformat": 4,
 "nbformat_minor": 2
}
